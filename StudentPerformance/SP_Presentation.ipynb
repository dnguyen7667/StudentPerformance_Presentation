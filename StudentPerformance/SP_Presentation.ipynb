{
 "cells": [
  {
   "cell_type": "markdown",
   "metadata": {},
   "source": [
    "# STUDENT PERFORMANCE"
   ]
  },
  {
   "cell_type": "markdown",
   "metadata": {},
   "source": [
    "### Note: If you want to run this notebook on your local machine, you will need to create a google cloud account, enables the APIs, create a google credentials and set it in your environment.\n",
    "\n"
   ]
  },
  {
   "cell_type": "code",
   "execution_count": 1,
   "metadata": {},
   "outputs": [],
   "source": [
    
    "\n",
    "import sys\n",
    "\n",
    "sys.path.insert(0, home_dir)\n"
   ]
  },
  {
   "cell_type": "code",
   "execution_count": 2,
   "metadata": {},
   "outputs": [],
   "source": [
    "import os\n",
    "\n",
    "os.environ[\"GOOGLE_APPLICATION_CREDENTIALS\"] = home_dir + \"ggcredentials.json\""
   ]
  },
  {
   "cell_type": "code",
   "execution_count": 3,
   "metadata": {},
   "outputs": [],
   "source": [
    "import findspark\n",
    "\n",
    "findspark.init()"
   ]
  },
  {
   "cell_type": "code",
   "execution_count": 4,
   "metadata": {},
   "outputs": [],
   "source": [
    "from pyspark.sql.functions import expr, coalesce, when, col, isnan, count, max\n",
    "from pyspark.ml import Pipeline\n",
    "from pyspark.ml.feature import OneHotEncoderEstimator, StringIndexer, VectorAssembler, StandardScaler\n",
    "from pyspark.ml.classification import LogisticRegression\n",
    "from pyspark.ml.evaluation import BinaryClassificationEvaluator\n",
    "from pyspark.ml.tuning import CrossValidator, ParamGridBuilder\n",
    "from pyspark.mllib.evaluation import MulticlassMetrics\n",
    "from pyspark import SparkContext, SparkConf\n",
    "from pyspark.sql import SparkSession\n",
    "\n",
    "sc = SparkContext(\"local\", \"SP_presentation\")\n",
    "\n",
    "spark= SparkSession.builder.getOrCreate()\n"
   ]
  },
  {
   "cell_type": "code",
   "execution_count": 5,
   "metadata": {},
   "outputs": [],
   "source": [
    "# Custom modules to clean, prepare data and upload them to GCP\n",
    "import datapreparation as dp, uploadtoGC\n",
    "import pandas as pd\n",
    "import re\n",
    "import numpy as np\n",
    "from sklearn.metrics import roc_curve\n",
    "import matplotlib.pyplot as plt"
   ]
  },
  {
   "cell_type": "markdown",
   "metadata": {},
   "source": [
    "# STEP 1: Download and import datasets, use them to build Spark dataframes<br/>\n",
    "   Link to download datasets: https://analyse.kmi.open.ac.uk/open_dataset"
   ]
  },
  {
   "cell_type": "markdown",
   "metadata": {},
   "source": [
    "### There are 3 tables that we are interested in: <br/>\n",
    "1. studentInfo <br/>\n",
    "  This file contains demographic information about the students together with their results <br/>\n",
    "\n",
    "2. studentAssessment <br/>\n",
    "  This file contains the results of students’ assessments. If the student does not submit the assessment, no result is recorded\n",
    "\n",
    "3. assessments <br/>\n",
    "  This file contains information about assessments types, ids, date of assessment and weight of assessments"
   ]
  },
  {
   "cell_type": "code",
   "execution_count": 6,
   "metadata": {},
   "outputs": [],
   "source": [
    "dataset_path = home_dir + \"dataset/\"\n",
    "\n",
    "# File location and type\n",
    "studentInfo_location = dataset_path + \"studentInfo.csv\"\n",
    "studentAssessment_location = dataset_path + \"studentAssessment.csv\"\n",
    "assessments_location = dataset_path + \"assessments.csv\"\n",
    "file_type = \"csv\"\n",
    "\n",
    "# CSV options\n",
    "infer_schema = \"false\"\n",
    "first_row_is_header = \"true\"\n",
    "delimiter = \",\"\n",
    "\n",
    "# Load student info table\n",
    "student_info = spark.read.format(file_type) \\\n",
    "  .option(\"inferSchema\", infer_schema) \\\n",
    "  .option(\"header\", first_row_is_header) \\\n",
    "  .option(\"sep\", delimiter) \\\n",
    "  .load(studentInfo_location)\n",
    "\n",
    "\n",
    "# Load student assessment table\n",
    "student_assessments = spark.read.format(file_type) \\\n",
    "  .option(\"inferSchema\", infer_schema) \\\n",
    "  .option(\"header\", first_row_is_header) \\\n",
    "  .option(\"sep\", delimiter) \\\n",
    "  .load(studentAssessment_location)\n",
    "\n",
    "\n",
    "# Load assessment table\n",
    "assessments = spark.read.format(file_type) \\\n",
    "  .option(\"inferSchema\", infer_schema) \\\n",
    "  .option(\"header\", first_row_is_header) \\\n",
    "  .option(\"sep\", delimiter) \\\n",
    "  .load(assessments_location)\n",
    "\n",
    "\n",
    "  "
   ]
  },
  {
   "cell_type": "markdown",
   "metadata": {},
   "source": [
    "## For the purpose of this demo, I only picked out information about code_module BBB and code_representaion 2013B"
   ]
  },
  {
   "cell_type": "code",
   "execution_count": 7,
   "metadata": {},
   "outputs": [],
   "source": [
    "bbb2013b = student_info.where( (col('code_module') == 'BBB') & (col('code_presentation') == '2013B') )"
   ]
  },
  {
   "cell_type": "markdown",
   "metadata": {},
   "source": [
    "## Collect all distinct id_assessment that have code_module = 'BBB' and code_presentation = '2013B'"
   ]
  },
  {
   "cell_type": "code",
   "execution_count": 8,
   "metadata": {},
   "outputs": [],
   "source": [
    "rows_id_assessment = assessments.select('id_assessment').where((col('code_module') == 'BBB') & (col('code_presentation') == '2013B')).collect()\n",
    "\n",
    "id_assessment_list = [int(rows_id_assessment[i][0]) for i in range(len(rows_id_assessment))]\n"
   ]
  },
  {
   "cell_type": "markdown",
   "metadata": {},
   "source": [
    "## Build each df for each id_assessment that store students' scores"
   ]
  },
  {
   "cell_type": "code",
   "execution_count": 9,
   "metadata": {},
   "outputs": [],
   "source": [
    "dfs = []\n",
    "\n",
    "for i in range(len(id_assessment_list)):\n",
    "  dfs.append( student_assessments.select([student_assessments.id_assessment.alias('id_a'),\\\n",
    "                                          student_assessments.id_student.alias('id_s') ,\\\n",
    "                                          student_assessments.score.alias('score_' + str(id_assessment_list[i]))])\\\n",
    "                                          .where( student_assessments.id_assessment == id_assessment_list[i] ) )"
   ]
  },
  {
   "cell_type": "markdown",
   "metadata": {},
   "source": [
    "## Join all grades with the \"big\" DataFrame bbb2013b that stores all students' info"
   ]
  },
  {
   "cell_type": "code",
   "execution_count": 10,
   "metadata": {},
   "outputs": [],
   "source": [
    "for i in range (len(dfs)):\n",
    "  cols = bbb2013b.columns\n",
    "  bbb2013b = bbb2013b.join(dfs[i], bbb2013b.id_student == dfs[i].id_s,  how = 'left' ).select(*cols, dfs[i].columns[-1])"
   ]
  },
  {
   "cell_type": "code",
   "execution_count": 11,
   "metadata": {},
   "outputs": [
    {
     "name": "stdout",
     "output_type": "stream",
     "text": [
      "+-----------+-----------------+----------+------+-------------------+--------------------+--------+--------+--------------------+---------------+----------+------------+-----------+-----------+-----------+-----------+-----------+-----------+-----------+-----------+-----------+-----------+-----------+-----------+\n",
      "|code_module|code_presentation|id_student|gender|             region|   highest_education|imd_band|age_band|num_of_prev_attempts|studied_credits|disability|final_result|score_14991|score_14992|score_14993|score_14994|score_14995|score_14984|score_14985|score_14986|score_14987|score_14988|score_14989|score_14990|\n",
      "+-----------+-----------------+----------+------+-------------------+--------------------+--------+--------+--------------------+---------------+----------+------------+-----------+-----------+-----------+-----------+-----------+-----------+-----------+-----------+-----------+-----------+-----------+-----------+\n",
      "|        BBB|            2013B|     23629|     F|East Anglian Region|  Lower Than A Level|  20-30%|    0-35|                   2|             60|         N|        Fail|        100|        100|       null|       null|       null|         67|         63|       null|       null|       null|       null|       null|\n",
      "|        BBB|            2013B|     25107|     F|East Anglian Region|  Lower Than A Level|  20-30%|    0-35|                   0|            120|         N|        Pass|        100|        100|        100|        100|        100|         59|         60|         63|         53|         61|         55|       null|\n",
      "|        BBB|            2013B|     27891|     M|           Scotland|  Lower Than A Level|   0-10%|    0-35|                   2|            120|         Y|   Withdrawn|        100|         60|         60|       null|       null|         73|         67|         55|       null|       null|       null|       null|\n",
      "|        BBB|            2013B|     29144|     M|       South Region|  Lower Than A Level|  60-70%|    0-35|                   0|            120|         N|        Fail|        100|        100|         60|         80|       null|         60|         55|         70|         72|         62|       null|       null|\n",
      "|        BBB|            2013B|     31663|     M|       North Region|A Level or Equiva...|  30-40%|   35-55|                   0|             60|         N|        Pass|        100|         80|        100|        100|        100|         88|         80|         85|         54|         15|         70|       null|\n",
      "+-----------+-----------------+----------+------+-------------------+--------------------+--------+--------+--------------------+---------------+----------+------------+-----------+-----------+-----------+-----------+-----------+-----------+-----------+-----------+-----------+-----------+-----------+-----------+\n",
      "only showing top 5 rows\n",
      "\n"
     ]
    }
   ],
   "source": [
    "bbb2013b.show(5)"
   ]
  },
  {
   "cell_type": "markdown",
   "metadata": {},
   "source": [
    "## Save the original dataframe before moving further"
   ]
  },
  {
   "cell_type": "code",
   "execution_count": 12,
   "metadata": {},
   "outputs": [],
   "source": [
    "original_df_path = dp.save_csv(bbb2013b, dataset_path, '/original_df')"
   ]
  },
  {
   "cell_type": "markdown",
   "metadata": {},
   "source": [
    "## Split the dataset into train and test set based on final_result :\n",
    "### The train dataset is to build a model. \n",
    "### The test set is to be used to evaluate how well the model does with data it has not seen before\n",
    "  "
   ]
  },
  {
   "cell_type": "code",
   "execution_count": 13,
   "metadata": {},
   "outputs": [],
   "source": [
    "train0, test0 = dp.split_data (bbb2013b, col = 'final_result', ratio = .8)"
   ]
  },
  {
   "cell_type": "code",
   "execution_count": 14,
   "metadata": {},
   "outputs": [
    {
     "name": "stdout",
     "output_type": "stream",
     "text": [
      "+------------+-----+\n",
      "|final_result|count|\n",
      "+------------+-----+\n",
      "|        Fail|  374|\n",
      "| Distinction|  122|\n",
      "|   Withdrawn|  417|\n",
      "|        Pass|  525|\n",
      "+------------+-----+\n",
      "\n"
     ]
    }
   ],
   "source": [
    "train0.groupBy('final_result').count().show()"
   ]
  },
  {
   "cell_type": "code",
   "execution_count": 15,
   "metadata": {},
   "outputs": [
    {
     "name": "stdout",
     "output_type": "stream",
     "text": [
      "+------------+-----+\n",
      "|final_result|count|\n",
      "+------------+-----+\n",
      "|        Fail|   85|\n",
      "| Distinction|   33|\n",
      "|   Withdrawn|   88|\n",
      "|        Pass|  123|\n",
      "+------------+-----+\n",
      "\n"
     ]
    }
   ],
   "source": [
    "test0.groupBy('final_result').count().show()"
   ]
  },
  {
   "cell_type": "markdown",
   "metadata": {},
   "source": [
    "### \"Zeroth\" try - Put every up to Google Cloud without cleaning the dataset\n",
    "  First try to save train and test set as csvs"
   ]
  },
  {
   "cell_type": "code",
   "execution_count": 16,
   "metadata": {},
   "outputs": [],
   "source": [
    "train0_dir = dp.save_csv(train0, dataset_path, 'zeroth_try/train')\n",
    "test0_dir = dp.save_csv(test0, dataset_path, 'zeroth_try/test')"
   ]
  },
  {
   "cell_type": "markdown",
   "metadata": {},
   "source": [
    "### Import to Google Cloud using a script. This can also easily be done by physically going to GCP website.\n",
    "#### The result didn't look so good. \n"
   ]
  },
  {
   "cell_type": "markdown",
   "metadata": {},
   "source": [
    "try_th = 'zero'\n",
    "ds_name = 'hihreyouaaaaaa'\n",
    "project_id = \"myprojectcas02\"\n",
    "\n",
    "uploadtoGC.upload_data(train0_dir, ds_name, try_th, 'train', project_id ,'us-central1', 'local')"
   ]
  },
  {
   "cell_type": "markdown",
   "metadata": {},
   "source": [
    "#### I've tried 3 times using Google Cloud AutoML and the results did not look promising until after the data goes through our custom-built pipeline to clean it"
   ]
  },
  {
   "cell_type": "markdown",
   "metadata": {},
   "source": [
    "### OUR ATTEMPT TO BUILD A CUSTOM PIPELINE TO CLEAN DATA<br/>\n",
    "####  1/ Check if columns have appropriate types. As we'll see there're columns that don't, for ex., scores are supposed to be numeric. So we'll need to convert to the proper datatypes"
   ]
  },
  {
   "cell_type": "code",
   "execution_count": 17,
   "metadata": {},
   "outputs": [
    {
     "data": {
      "text/plain": [
       "[('code_module', 'string'),\n",
       " ('code_presentation', 'string'),\n",
       " ('id_student', 'string'),\n",
       " ('gender', 'string'),\n",
       " ('region', 'string'),\n",
       " ('highest_education', 'string'),\n",
       " ('imd_band', 'string'),\n",
       " ('age_band', 'string'),\n",
       " ('num_of_prev_attempts', 'string'),\n",
       " ('studied_credits', 'string'),\n",
       " ('disability', 'string'),\n",
       " ('final_result', 'string'),\n",
       " ('score_14991', 'string'),\n",
       " ('score_14992', 'string'),\n",
       " ('score_14993', 'string'),\n",
       " ('score_14994', 'string'),\n",
       " ('score_14995', 'string'),\n",
       " ('score_14984', 'string'),\n",
       " ('score_14985', 'string'),\n",
       " ('score_14986', 'string'),\n",
       " ('score_14987', 'string'),\n",
       " ('score_14988', 'string'),\n",
       " ('score_14989', 'string'),\n",
       " ('score_14990', 'string')]"
      ]
     },
     "execution_count": 17,
     "metadata": {},
     "output_type": "execute_result"
    }
   ],
   "source": [
    "train0.dtypes"
   ]
  },
  {
   "cell_type": "markdown",
   "metadata": {},
   "source": [
    "#### 2/ We need to inspect if we have columns that contain null. If yes, we have to clean, impute,... before we do some analysis and train Machine Learning models<br/>\n"
   ]
  },
  {
   "cell_type": "code",
   "execution_count": 18,
   "metadata": {},
   "outputs": [
    {
     "name": "stdout",
     "output_type": "stream",
     "text": [
      "+-----------+-----------------+----------+------+------+-----------------+--------+--------+--------------------+---------------+----------+------------+-----------+-----------+-----------+-----------+-----------+-----------+-----------+-----------+-----------+-----------+-----------+-----------+\n",
      "|code_module|code_presentation|id_student|gender|region|highest_education|imd_band|age_band|num_of_prev_attempts|studied_credits|disability|final_result|score_14991|score_14992|score_14993|score_14994|score_14995|score_14984|score_14985|score_14986|score_14987|score_14988|score_14989|score_14990|\n",
      "+-----------+-----------------+----------+------+------+-----------------+--------+--------+--------------------+---------------+----------+------------+-----------+-----------+-----------+-----------+-----------+-----------+-----------+-----------+-----------+-----------+-----------+-----------+\n",
      "|          0|                0|         0|     0|     0|                0|      18|       0|                   0|              0|         0|           0|        474|        566|        636|        682|        736|        353|        453|        584|        683|        732|        826|       1438|\n",
      "+-----------+-----------------+----------+------+------+-----------------+--------+--------+--------------------+---------------+----------+------------+-----------+-----------+-----------+-----------+-----------+-----------+-----------+-----------+-----------+-----------+-----------+-----------+\n",
      "\n"
     ]
    }
   ],
   "source": [
    "train0.select([count(when(isnan(c) | train0[c].isNull(), c)).alias(c) for c in train0.columns]).show()\n"
   ]
  },
  {
   "cell_type": "markdown",
   "metadata": {},
   "source": [
    "#### First intuitive thought is imd_band (Index of Multiple Deprivation - official measure of relative deprivation for small areas in England) is mostly based on region<br/>\n",
    "#### The code below shown how I was filling in nulls for imd_band columns based on the region, for ex: region 'South East Region' has imd '60-70%', region 'West Midlands Region' has imd '0-10%', etc"
   ]
  },
  {
   "cell_type": "code",
   "execution_count": 19,
   "metadata": {},
   "outputs": [],
   "source": [
    "region_imdband_groupby = train0.groupBy(['region', 'imd_band']).count().select(col('region').alias('m_region'), col('imd_band').alias('m_imd_band'), col('count').alias('total_counts'))\n",
    "maxcount_imdband_by_region = region_imdband_groupby.groupBy(['m_region']).agg(max('total_counts').alias('maxcount')).select(col('m_region').alias('region'), 'maxcount')\n",
    "conditions = [region_imdband_groupby['total_counts'] == maxcount_imdband_by_region['maxcount'], region_imdband_groupby['m_region'] == maxcount_imdband_by_region['region']]\n",
    "maxcount_imdband_by_region_records = region_imdband_groupby.join(maxcount_imdband_by_region, conditions, 'inner')\n",
    "imd_band_replace_dict = maxcount_imdband_by_region_records.select('region', 'm_imd_band').dropDuplicates(['region']).collect()\n",
    "\n",
    "list_imdband = [list(row) for row in imd_band_replace_dict]\n",
    "mdict_imd = {l[0]: l[1] for l in list_imdband}\n",
    "\n"
   ]
  },
  {
   "cell_type": "code",
   "execution_count": 20,
   "metadata": {},
   "outputs": [
    {
     "name": "stdout",
     "output_type": "stream",
     "text": [
      "East Anglian Region :  70-80%\n",
      "South West Region :  20-30%\n",
      "Wales :  0-10%\n",
      "West Midlands Region :  0-10%\n",
      "South East Region :  60-70%\n",
      "North Western Region :  0-10%\n",
      "East Midlands Region :  20-30%\n",
      "Ireland :  10-20\n",
      "Yorkshire Region :  0-10%\n",
      "North Region :  10-20\n",
      "London Region :  20-30%\n",
      "South Region :  90-100%\n",
      "Scotland :  20-30%\n"
     ]
    }
   ],
   "source": [
    "for key, val in mdict_imd.items():\n",
    "    print (key, \": \", val)"
   ]
  },
  {
   "cell_type": "markdown",
   "metadata": {},
   "source": [
    "#### Build up conditional statement used to fill imd_band column based on region"
   ]
  },
  {
   "cell_type": "code",
   "execution_count": 21,
   "metadata": {},
   "outputs": [],
   "source": [
    "imd_cond_str = dp.cond_statement('region', mdict_imd)"
   ]
  },
  {
   "cell_type": "markdown",
   "metadata": {},
   "source": [
    "### Ranking education levels also help to make the result of model better"
   ]
  },
  {
   "cell_type": "code",
   "execution_count": 22,
   "metadata": {},
   "outputs": [],
   "source": [
    "edu_dict = {'Lower Than A Level': 0, 'No Formal quals': 0 , 'A Level or Equivalent': 1, 'HE Qualification': 2, 'Post Graduate Qualification': 3}\n",
    "\n",
    "edu_cond_str = dp.cond_statement('highest_education', edu_dict)"
   ]
  },
  {
   "cell_type": "markdown",
   "metadata": {},
   "source": [
    "### Also from training results I got with AutoML, the models seemed to be confused alot by final_resul. To simplify the training process and get better result, I'll convert \"Distinction\" and \"Pass\" to \"Pass\", \"Fail\" otherwise"
   ]
  },
  {
   "cell_type": "code",
   "execution_count": 23,
   "metadata": {},
   "outputs": [],
   "source": [
    "final_result_dict = {'Pass': 'Pass', 'Distinction': 'Pass', 'Fail': 'Fail', 'Withdrawn': 'Fail'}\n",
    "final_result_cond_str = dp.cond_statement('final_result', final_result_dict)\n"
   ]
  },
  {
   "cell_type": "markdown",
   "metadata": {},
   "source": [
    "#### Specify steps to clean our dataset. Drop columns, fill nas, cast some columns' datatypes and impute/fix columns imd_band and rank education column,...<br/>\n",
    "#### This is our custom \"Cleaning Pipeline\""
   ]
  },
  {
   "cell_type": "code",
   "execution_count": 24,
   "metadata": {},
   "outputs": [],
   "source": [
    "cols_to_drop = ['code_module', 'code_representation', 'id_student', 'score_14990', 'code_presentation']\n",
    "numeric_cols = ['score_14991', 'score_14992', 'score_14993', 'score_14994', 'score_14995', 'score_14984', 'score_14985', 'score_14986', 'score_14987', 'score_14988', 'score_14989']\n",
    "numeric_cols.append('num_of_prev_attempts')\n",
    "\n",
    "\n",
    "clean_steps = {'drop_cols': cols_to_drop,\n",
    "               'cast_cols_dtype': [numeric_cols, 'double'],\n",
    "               'fill_na': [numeric_cols, 0],               \n",
    "               'impute_cols': [['imd_band', imd_cond_str]],\n",
    "               'rank_cols': [['highest_education', edu_cond_str]],\n",
    "               'convert_cols': [['final_result', final_result_cond_str]]}\n",
    "\n",
    "#to_dos = ['drop_cols', 'cast_cols_dtype', 'fill_na', 'impute_cols']\n",
    "\n",
    "train1 = dp.cleaning_stages (train0, **clean_steps)"
   ]
  },
  {
   "cell_type": "markdown",
   "metadata": {},
   "source": [
    "#### Check again to see if we still have nulls."
   ]
  },
  {
   "cell_type": "code",
   "execution_count": 25,
   "metadata": {},
   "outputs": [
    {
     "name": "stdout",
     "output_type": "stream",
     "text": [
      "+------+------+-----------------+--------+---------------+----------+------------+-----------+-----------+-----------+-----------+-----------+-----------+-----------+-----------+-----------+-----------+-----------+--------------------+--------+------------------------+----------------------+\n",
      "|gender|region|highest_education|age_band|studied_credits|disability|final_result|score_14991|score_14992|score_14993|score_14994|score_14995|score_14984|score_14985|score_14986|score_14987|score_14988|score_14989|num_of_prev_attempts|imd_band|ranked_highest_education|converted_final_result|\n",
      "+------+------+-----------------+--------+---------------+----------+------------+-----------+-----------+-----------+-----------+-----------+-----------+-----------+-----------+-----------+-----------+-----------+--------------------+--------+------------------------+----------------------+\n",
      "|     0|     0|                0|       0|              0|         0|           0|          0|          0|          0|          0|          0|          0|          0|          0|          0|          0|          0|                   0|       0|                       0|                     0|\n",
      "+------+------+-----------------+--------+---------------+----------+------------+-----------+-----------+-----------+-----------+-----------+-----------+-----------+-----------+-----------+-----------+-----------+--------------------+--------+------------------------+----------------------+\n",
      "\n"
     ]
    }
   ],
   "source": [
    "train1.select([count(when(isnan(c) | train1[c].isNull(), c)).alias(c) for c in train1.columns]).show()"
   ]
  },
  {
   "cell_type": "markdown",
   "metadata": {},
   "source": [
    "### Save train1 df"
   ]
  },
  {
   "cell_type": "code",
   "execution_count": 26,
   "metadata": {},
   "outputs": [],
   "source": [
    "train1_dir = dp.save_csv(train1, dataset_path, 'first_try/train')"
   ]
  },
  {
   "cell_type": "code",
   "execution_count": 27,
   "metadata": {},
   "outputs": [
    {
     "name": "stdout",
     "output_type": "stream",
     "text": [
      "+----------------------+-----+\n",
      "|converted_final_result|count|\n",
      "+----------------------+-----+\n",
      "|                  Fail|  791|\n",
      "|                  Pass|  647|\n",
      "+----------------------+-----+\n",
      "\n"
     ]
    }
   ],
   "source": [
    "train1.groupby('converted_final_result').count().show()"
   ]
  },
  {
   "cell_type": "markdown",
   "metadata": {},
   "source": [
    "# TO DO: IMPORT SOME PLOT AND BRIEF ANALYSIS HERE LATER"
   ]
  },
  {
   "cell_type": "markdown",
   "metadata": {},
   "source": [
    "### Compare the last try I had with Google AutoML and the Logistics Regression model I'd train below, the results were pretty much similar. <br/>\n",
    "\n"
   ]
  },
  {
   "cell_type": "code",
   "execution_count": 28,
   "metadata": {},
   "outputs": [],
   "source": [
    "\n",
    "stages = [] # contain stages that data will be transformed\n"
   ]
  },
  {
   "cell_type": "markdown",
   "metadata": {},
   "source": [
    "#### Specify types of data: categorical, ordinal, numeric,..."
   ]
  },
  {
   "cell_type": "code",
   "execution_count": 29,
   "metadata": {},
   "outputs": [],
   "source": [
    "ordinal_categorical_cols = ['ranked_highest_education']\n",
    "categorical_cols = ['gender', 'region', 'age_band', 'disability', 'imd_band']\n",
    "numeric_cols = ['score_14991', 'score_14992', 'score_14993', 'score_14994', 'score_14995', 'score_14984', 'score_14985', 'score_14986', 'score_14987', 'score_14988', 'score_14989']\n",
    "numeric_cols.append('num_of_prev_attempts')"
   ]
  },
  {
   "cell_type": "markdown",
   "metadata": {},
   "source": [
    "### Build a stages for Pipeline (include the ordered stages that will transform your data)<br/>\n",
    " \n",
    "#### 1/ Binary encoding categorical data. We do this because categorical data should not be ranked, in another word, for column gender, female individuals shouldn't be ranked less than male individuals and vice versa"
   ]
  },
  {
   "cell_type": "code",
   "execution_count": 30,
   "metadata": {},
   "outputs": [],
   "source": [
    "for col in categorical_cols:\n",
    "  string_indexer = StringIndexer(inputCol= col, outputCol = col + \"Index\")\n",
    "  onehot_encoder = OneHotEncoderEstimator(inputCols = [string_indexer.getOutputCol()], outputCols = [col + \"classVec\"])\n",
    "  # Add above transformers into the stages\n",
    "  stages += [string_indexer, onehot_encoder]\n"
   ]
  },
  {
   "cell_type": "markdown",
   "metadata": {},
   "source": [
    "#### 2/ Convert result into a string indices also, named \"label\". A machine learning model will look for this column as their output data and will based this column with the result from their predictions to calculate some results statistics."
   ]
  },
  {
   "cell_type": "code",
   "execution_count": 31,
   "metadata": {},
   "outputs": [],
   "source": [
    "label_stringIdx = StringIndexer(inputCol = 'converted_final_result', outputCol = 'label', stringOrderType= 'alphabetAsc')\n",
    "\n",
    "stages += [label_stringIdx]"
   ]
  },
  {
   "cell_type": "markdown",
   "metadata": {},
   "source": [
    "#### 3/ Standardize numeric columns"
   ]
  },
  {
   "cell_type": "code",
   "execution_count": 32,
   "metadata": {},
   "outputs": [],
   "source": [
    "numeric_assembler = VectorAssembler(inputCols= numeric_cols, outputCol = 'numeric_f')\n",
    "standard_scaler = StandardScaler().setInputCol('numeric_f').setOutputCol('standardized_numeric_f')\n",
    "\n",
    "stages += [numeric_assembler, standard_scaler]"
   ]
  },
  {
   "cell_type": "markdown",
   "metadata": {},
   "source": [
    "#### 4/ Assemble all the input into a column called \"Features\". A machine learning model will look for this column as their input data"
   ]
  },
  {
   "cell_type": "code",
   "execution_count": 33,
   "metadata": {},
   "outputs": [],
   "source": [
    "assembler_inputs = [c + \"classVec\" for c in categorical_cols] + numeric_cols\n",
    "assembler = VectorAssembler(inputCols = assembler_inputs, outputCol = 'features')\n",
    "\n",
    "stages += [assembler]\n"
   ]
  },
  {
   "cell_type": "markdown",
   "metadata": {},
   "source": [
    "#### 5/ Feature transformation thru pipeline with stages defined earlier"
   ]
  },
  {
   "cell_type": "code",
   "execution_count": 34,
   "metadata": {},
   "outputs": [],
   "source": [
    "partial_pipeline = Pipeline().setStages(stages)\n",
    "pipeline_model = partial_pipeline.fit(train1)\n",
    "prepped_train1 = pipeline_model.transform(train1) "
   ]
  },
  {
   "cell_type": "markdown",
   "metadata": {},
   "source": [
    "#### 6/ STARTING TRAINING MODEL<br/>\n",
    "LOGISTIC REGRESSION\n",
    "https://spark.apache.org/docs/latest/mllib-linear-methods.html#logistic-regression"
   ]
  },
  {
   "cell_type": "code",
   "execution_count": 35,
   "metadata": {},
   "outputs": [],
   "source": [
    "lr= LogisticRegression(labelCol= 'label', featuresCol= 'features', tol=1e-6)\n",
    "\n"
   ]
  },
  {
   "cell_type": "markdown",
   "metadata": {},
   "source": [
    "#### 6.1/ Tuning the parameter\n",
    "#### Define a parameter grid: We choose to have a total of 2*2 = 4 combinations of parameters to go choose from"
   ]
  },
  {
   "cell_type": "code",
   "execution_count": 36,
   "metadata": {},
   "outputs": [],
   "source": [
    "paramGrid = (ParamGridBuilder()\n",
    "             .addGrid(lr.regParam,  [0.5, 2.0])\n",
    "             .addGrid(lr.elasticNetParam, [0.5, 1.0])\n",
    "             .build())"
   ]
  },
  {
   "cell_type": "markdown",
   "metadata": {},
   "source": [
    "#### 6.2/ Better way to evaluate the performance of a model: Cross-validation\n",
    "#### 3 fold-cross validations together with 4 combinations of parameters above, so the model will run 12 times, then store the best model it's seen.\n"
   ]
  },
  {
   "cell_type": "code",
   "execution_count": 37,
   "metadata": {},
   "outputs": [],
   "source": [
    "evaluator = BinaryClassificationEvaluator()\n",
    "\n",
    "cv = CrossValidator(estimator = lr, estimatorParamMaps= paramGrid, evaluator= evaluator, numFolds= 3)\n",
    "\n",
    "cv_model = cv.fit(prepped_train1)"
   ]
  },
  {
   "cell_type": "markdown",
   "metadata": {},
   "source": [
    "#### Evaluate our model: metrics= area under ROC (Receiver Operationg Charasteristics or FPR vs TPR) Curve. Optimal area = 1\n"
   ]
  },
  {
   "cell_type": "code",
   "execution_count": 38,
   "metadata": {},
   "outputs": [
    {
     "name": "stdout",
     "output_type": "stream",
     "text": [
      "Area under ROC Curve =  0.9714924664453464\n"
     ]
    }
   ],
   "source": [
    "predictions_train = cv_model.transform(prepped_train1)\n",
    "\n",
    "roc_area = evaluator.evaluate(predictions_train)\n",
    "\n",
    "print (\"Area under ROC Curve = \", roc_area)"
   ]
  },
  {
   "cell_type": "markdown",
   "metadata": {},
   "source": [
    "#### Convert final_result  :  'Pass'  to 0 and 'Fail to 0"
   ]
  },
  {
   "cell_type": "code",
   "execution_count": 39,
   "metadata": {},
   "outputs": [],
   "source": [
    "from pyspark.sql.functions import col, when\n",
    "predictions_train = predictions_train.withColumn(\"converted_final_result_int\", when(col('converted_final_result') == 'Pass', 1).otherwise(0))"
   ]
  },
  {
   "cell_type": "markdown",
   "metadata": {},
   "source": [
    "### Convert the results to pandas dataframe for better options for visualization"
   ]
  },
  {
   "cell_type": "code",
   "execution_count": 40,
   "metadata": {},
   "outputs": [],
   "source": [
    "results_pd = predictions_train[['converted_final_result', 'converted_final_result_int', 'prediction', 'rawPrediction', 'probability' ]].toPandas()"
   ]
  },
  {
   "attachments": {
    "confusionMatrix.png": {
     "image/png": "[encoded data removed]"
    }
   },
   "cell_type": "markdown",
   "metadata": {},
   "source": [
    "### Take a look at our confusion matrix\n",
    "#### True Negative = 728, False Positive = 63, False Negative = 69, True Positive = 578\n",
    "\n",
    "#### True Positive Rate: 578 / (578+69) = 0.8934\n",
    "#### True Negative Rate: 728 / (728+63) = 0.9204\n",
    "#### False Positive Rate: 63 / (728+63) = 0.0796\n",
    "#### False Negative Rate: 69 / (578+69) = 0.1066\n",
    "#### Accuracy = sqrt(True Positive Rate * True Negative Rate ) = .9068\n",
    "\n",
    "\n",
    "![confusionMatrix.png](attachment:confusionMatrix.png)"
   ]
  },
  {
   "cell_type": "code",
   "execution_count": 41,
   "metadata": {},
   "outputs": [
    {
     "data": {
      "text/plain": [
       "array([[728,  63],\n",
       "       [ 69, 578]])"
      ]
     },
     "execution_count": 41,
     "metadata": {},
     "output_type": "execute_result"
    }
   ],
   "source": [
    "from sklearn.metrics import confusion_matrix\n",
    "\n",
    "confusion_matrix(results_pd['converted_final_result_int'], results_pd['prediction'])"
   ]
  },
  {
   "cell_type": "code",
   "execution_count": 42,
   "metadata": {},
   "outputs": [],
   "source": [
    "pos_probs = []\n",
    "\n",
    "for i in range(len(results_pd)):\n",
    "    pos_prob = results_pd['probability'][i][1]\n",
    "    pos_probs.append(pos_prob)\n",
    "    \n",
    "pos_probs = np.array(pos_probs)"
   ]
  },
  {
   "cell_type": "code",
   "execution_count": 43,
   "metadata": {},
   "outputs": [],
   "source": [
    "fpr, tpr, thresholds = roc_curve(np.array(results_pd['converted_final_result_int']), pos_probs)"
   ]
  },
  {
   "cell_type": "code",
   "execution_count": 44,
   "metadata": {},
   "outputs": [
    {
     "data": {
      "image/png": "[encoded data removed]",
      "text/plain": [
       "<Figure size 432x288 with 1 Axes>"
      ]
     },
     "metadata": {
      "needs_background": "light"
     },
     "output_type": "display_data"
    },
    {
     "name": "stdout",
     "output_type": "stream",
     "text": [
      "Area under ROC Curve =  0.9714924664453464\n"
     ]
    }
   ],
   "source": [
    "def plot_roc_curve(fpr, tpr):\n",
    "    plt.plot(fpr, tpr, linewidth= 2)\n",
    "    plt.axis([0,1,0,1])\n",
    "    plt.xlabel('False Positive Rate')\n",
    "    plt.ylabel('True Positive Rate')\n",
    "    \n",
    "plot_roc_curve(fpr, tpr)\n",
    "plt.show()\n",
    "print (\"Area under ROC Curve = \", roc_area)"
   ]
  },
  {
   "cell_type": "markdown",
   "metadata": {},
   "source": [
    "### In our case, we can adjust the probability threshold to achieve a lower Fall Positive Rate (we want to be able to predict as many actual \"failing\" students as possible)"
   ]
  },
  {
   "cell_type": "code",
   "execution_count": 45,
   "metadata": {},
   "outputs": [
    {
     "data": {
      "image/png": "[encoded data removed]",
      "text/plain": [
       "<Figure size 432x288 with 1 Axes>"
      ]
     },
     "metadata": {
      "needs_background": "light"
     },
     "output_type": "display_data"
    }
   ],
   "source": [
    "def plot_fpr_thresholds(fpr, thresholds):\n",
    "    plt.plot(fpr, thresholds, linewidth= 2)\n",
    "    plt.plot([0, 0.2], [0.5, 0.5], 'k--')\n",
    "    plt.axis([0,0.2,0.4,0.6])\n",
    "    plt.xlabel('False Positive Rate')\n",
    "    plt.ylabel('thresholds')\n",
    "    \n",
    "plot_fpr_thresholds(fpr, thresholds)\n",
    "plt.show()\n"
   ]
  },
  {
   "cell_type": "markdown",
   "metadata": {},
   "source": [
    "### We can always train more models, but let assume we are happy with what we have and are ready to have it tested on our test set"
   ]
  },
  {
   "cell_type": "code",
   "execution_count": 46,
   "metadata": {},
   "outputs": [],
   "source": [
    "test1_cleaned = dp.cleaning_stages (test0, **clean_steps)"
   ]
  },
  {
   "cell_type": "code",
   "execution_count": 48,
   "metadata": {},
   "outputs": [],
   "source": [
    "#Predictions on test set\n",
    "test1_prepped = pipeline_model.transform(test1_cleaned)\n",
    "\n"
   ]
  },
  {
   "cell_type": "code",
   "execution_count": 49,
   "metadata": {},
   "outputs": [],
   "source": [
    "predictions_test = cv_model.transform(test1_prepped)"
   ]
  },
  {
   "cell_type": "markdown",
   "metadata": {},
   "source": [
    "### On our test set, the model did a similarly good job. Area under ROC is .973"
   ]
  },
  {
   "cell_type": "code",
   "execution_count": 53,
   "metadata": {},
   "outputs": [],
   "source": [
    "roc_area_test = evaluator.evaluate(predictions_test)"
   ]
  },
  {
   "cell_type": "code",
   "execution_count": 54,
   "metadata": {},
   "outputs": [
    {
     "name": "stdout",
     "output_type": "stream",
     "text": [
      "0.9730250481695568\n"
     ]
    }
   ],
   "source": [
    "print (roc_area_test)"
   ]
  },
  {
   "cell_type": "markdown",
   "metadata": {},
   "source": [
    "### Save a model to use later"
   ]
  },
  {
   "cell_type": "code",
   "execution_count": 59,
   "metadata": {},
   "outputs": [],
   "source": [
    "cv_model.save(home_dir +\"cv_model\")"
   ]
  },
  {
   "cell_type": "code",
   "execution_count": 68,
   "metadata": {},
   "outputs": [],
   "source": [
    "#from pyspark.ml.tuning import CrossValidatorModel\n",
    "#cv_model_loaded = CrossValidatorModel.load(home_dir +\"cv_model\")"
   ]
  },
  {
   "cell_type": "code",
   "execution_count": null,
   "metadata": {},
   "outputs": [],
   "source": []
  },
  {
   "cell_type": "code",
   "execution_count": null,
   "metadata": {},
   "outputs": [],
   "source": []
  }
 ],
 "metadata": {
  "kernelspec": {
   "display_name": "Python 3",
   "language": "python",
   "name": "python3"
  },
  "language_info": {
   "codemirror_mode": {
    "name": "ipython",
    "version": 3
   },
   "file_extension": ".py",
   "mimetype": "text/x-python",
   "name": "python",
   "nbconvert_exporter": "python",
   "pygments_lexer": "ipython3",
   "version": "3.7.3"
  },
  "name": "StudentPerformance_Presentation",
  "notebookId": 39019852037903
 },
 "nbformat": 4,
 "nbformat_minor": 1
}
